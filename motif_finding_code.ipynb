{
 "cells": [
  {
   "attachments": {},
   "cell_type": "markdown",
   "metadata": {},
   "source": [
    "In order to find potential binding motifs for transcription factors, I will use a type of algorithm that is called \"Gibbs sampling\". What this algorithm does is randomly take a kmer of a specific length of each DNA-string. It uses this to score the current list of motifs with cross-entropy, hereby the similarity between motifs is quantified taking into account the nucleotide frequencies of the input strings. The initial selection of motifs will be very bad because they are randomly chosen, but each iteration a (weighted) random motif is removed from the list and a new relative entropy is calculated. If this increases the relative entropy, this new set of motifs will be the new best list of motifs. The algorithm continues doing this untill the relative entropy score does not increase for 100 iterations, meaning that it will have found the best list of motifs.\n",
    "\n",
    "Although this algorithm will perform well in many cases, it may converge to a local optimum where it will get stuck. Therefore, the Gibbs algorithm has to be run many times with the hope that one of these will return the best-scoring motif."
   ]
  },
  {
   "cell_type": "code",
   "execution_count": 51,
   "metadata": {},
   "outputs": [],
   "source": [
    "# code for the Gibbs sampling algorithm\n",
    "\n",
    "import numpy as np\n",
    "import pandas as pd\n",
    "import random\n",
    "import itertools\n",
    "from scipy import stats\n",
    "from math import log2\n",
    "import matplotlib.pyplot as plt\n",
    "\n",
    "# return the Hamming distance between 2 DNA-strings (amount of mismatches)\n",
    "def get_hamming_distance(p, q):\n",
    "    count = 0\n",
    "    for pos in zip(list(p), list(q)):\n",
    "        if pos[0] != pos[1]:\n",
    "            count += 1\n",
    "    return count\n",
    "\n",
    "# get all k-mers of a sequence\n",
    "def get_kmers(input, k):\n",
    "    return [input[i:i+k] for i in range(len(input)-k+1)]\n",
    "\n",
    "# get the most probable k-mer using a profile of bases\n",
    "def profile_most_probable(genome, k, profile):\n",
    "    kmers = get_kmers(genome, k)\n",
    "    output = {}\n",
    "\n",
    "    for kmer in kmers:\n",
    "        profiles = []\n",
    "        for index, base in enumerate(kmer):\n",
    "            if base == \"A\":\n",
    "                id = 0\n",
    "            if base == \"C\":\n",
    "                id = 1\n",
    "            if base == \"G\":\n",
    "                id = 2\n",
    "            if base == \"T\":\n",
    "                id = 3\n",
    "            profiles.append(profile[index][id])\n",
    "        output.update({kmer: np.product(profiles)})\n",
    "\n",
    "    return max(output, key = output.get)\n",
    "\n",
    "# get the profile matrix for a list of sequences\n",
    "def get_profile_matrix(data, laplace):\n",
    "    # convert to list if only single string is given\n",
    "    data = [data] if isinstance(data, str) else data    \n",
    "    \n",
    "    # create an empty list for each of the 4 nucleotides with length of each kmer\n",
    "    profile = [[] for x in range(len(data[0]))]\n",
    "    # get a dictionary with the location for each nucleotide\n",
    "    n = [\"A\", \"C\", \"G\", \"T\"]\n",
    "    output = []\n",
    "        \n",
    "    for i in data:\n",
    "        for index, base in enumerate(i):\n",
    "            profile[index].append(base)\n",
    "   \n",
    "    for index in profile:\n",
    "        temp = []\n",
    "        output.append(temp)\n",
    "        for i in n:\n",
    "            temp.append(index.count(i))\n",
    "\n",
    "    if laplace == 1:\n",
    "        # add 1 to utilize Laplace's rule\n",
    "        return [[(j+1)/(len(data)) for j in i] for i in output]\n",
    "    else:\n",
    "        return [[(j)/(len(data)) for j in i] for i in output]\n",
    "\n",
    "# get the relative frequency of the DNA strings to calculate the cross-entropy\n",
    "def get_nucleotide_frequencies(genome):\n",
    "    A = 0\n",
    "    C = 0\n",
    "    G = 0\n",
    "    T = 0\n",
    "\n",
    "    for region in genome:\n",
    "        A += region.count(\"A\")\n",
    "        C += region.count(\"C\")\n",
    "        G += region.count(\"G\")\n",
    "        T += region.count(\"T\")\n",
    "\n",
    "    sum = A+C+G+T\n",
    "\n",
    "    return [A/sum, C/sum, G/sum, T/sum]\n",
    "\n",
    "# score the motif list with relative entropy\n",
    "def score_motifs(data, n_freq):\n",
    "    # create an empty list for each of the 4 nucleotides with length of each kmer\n",
    "    profile = [[] for x in range(len(data[0]))]\n",
    "    # get a dictionary with the location for each nucleotide\n",
    "    n = [\"A\", \"C\", \"G\", \"T\"]\n",
    "    output = []\n",
    "    \n",
    "    # start is very similar to get_profile function   \n",
    "    for i in data:\n",
    "        for index, base in enumerate(i):\n",
    "            profile[index].append(base)\n",
    "\n",
    "    # get the profile relative profile matrix \n",
    "    for index in profile:\n",
    "        temp = []\n",
    "        output.append(temp)\n",
    "        for i in n:\n",
    "            temp.append(index.count(i) / len(data))\n",
    "\n",
    "    # calculate the entropy and the cross-entropy for each element of the profile matrix\n",
    "    entropy = []\n",
    "    cross_entropy = []\n",
    "\n",
    "    for profile in output:\n",
    "        temp = []\n",
    "        temp2 = []\n",
    "        entropy.append(temp)\n",
    "        cross_entropy.append(temp2)\n",
    "        for index, ele in enumerate(profile):\n",
    "            temp2.append(ele*log2(n_freq[index]))\n",
    "            if ele == 0:\n",
    "                temp.append(0)\n",
    "            else:\n",
    "                temp.append(ele*log2(ele))\n",
    "\n",
    "    # the final relative entropy score is the cross_entropy minus the entropy\n",
    "    entropy_score = [sum(ele) for ele in entropy]\n",
    "    cross_entropy_score = [sum(ele) for ele in cross_entropy]\n",
    "    \n",
    "    return -sum(cross_entropy_score) + sum(entropy_score)\n",
    "\n",
    "# get random kmers from a DNA string\n",
    "def random_kmer(genome, k):\n",
    "    random_motifs = []\n",
    "    dna_string_len = len(genome[0])\n",
    "    \n",
    "    for seq in genome:\n",
    "        random_index = random.randrange(dna_string_len-k+1)\n",
    "        random_motifs.append(seq[random_index:random_index+k])\n",
    "    \n",
    "    return random_motifs\n",
    "\n",
    "# use a biased random sampler to select a random kmer\n",
    "def random_gibbs(t):\n",
    "    # get t random numbers\n",
    "    rand = [random.random() for i in range(t)]\n",
    "    \n",
    "    # divide by sum to get random numbers equalling to 1\n",
    "    sum_rand = [i/sum(rand) for i in rand]\n",
    "        \n",
    "    # create a specific distribution\n",
    "    gibbs = stats.rv_discrete(name = \"gibbs\", values = (np.arange(t), sum_rand))\n",
    "    \n",
    "    # return a random biased kmer\n",
    "    return gibbs.rvs()\n",
    "\n",
    "# Gibbs sampler randomly removes a motif from the motif list and evaluates if the \n",
    "# score increases\n",
    "def gibbs_sampler(genome, k, t, n):\n",
    "    # get random kmers\n",
    "    best_motifs = random_kmer(genome, k)\n",
    "    motifs = random_kmer(genome, k)\n",
    "    # get the relative nucleotide frequencies for the cross-entropy calculation\n",
    "    n_freq = get_nucleotide_frequencies(genome)\n",
    "    \n",
    "    for _ in range(n):\n",
    "        # get biased kmer index\n",
    "        i = random_gibbs(t)\n",
    "        # remove this kmer\n",
    "        motifs.pop(i)\n",
    "        profile = get_profile_matrix(motifs, True)\n",
    "        # find the most probable replacement motif in genome[i] and add back\n",
    "        motif_i = profile_most_probable(genome[i], k, profile)\n",
    "        motifs.insert(i, motif_i)\n",
    "        \n",
    "        # we want to maximize the relative-entropy so if the score is higher we will keep that list of motifs\n",
    "        if score_motifs(motifs, n_freq) > score_motifs(best_motifs, n_freq):\n",
    "            best_motifs = motifs\n",
    "        \n",
    "    return best_motifs\n",
    "\n",
    "# The final Gibbs motif search algorithm that gives the motif with the score that did not change\n",
    "# after 100 consecutive calls for gibbs_sampler\n",
    "def gibbs_motif_search(genome, k, t, n):\n",
    "    highest_best_score = 0\n",
    "    highest_motif = []\n",
    "    # get the relative nucleotide frequencies for the cross-entropy calculation\n",
    "    n_freq = get_nucleotide_frequencies(genome)\n",
    "    \n",
    "    i = 0\n",
    "    while True:\n",
    "        best_motif = gibbs_sampler(genome, k, t, n)\n",
    "        best_score = score_motifs(best_motif, n_freq)\n",
    "        if best_score > highest_best_score:\n",
    "            highest_best_score = best_score\n",
    "            highest_motif = best_motif\n",
    "            i = 0\n",
    "        else:\n",
    "            i += 1\n",
    "        if i == 100:\n",
    "            break\n",
    "    \n",
    "    return highest_motif"
   ]
  },
  {
   "attachments": {},
   "cell_type": "markdown",
   "metadata": {},
   "source": [
    "In this project I will use the Gibbs sampling algorithm to determine the possible binding motif of the transciptional regulator of Mycobacterium tuberculosis under anoxic conditions. This bacterium still causes millions of deaths each year due to antibiotic-resistant strains. One of the reasons that M. tuberculosis is hard to treat is that it can survive for decades in humans without causing disease. It is unclear how exactly this bacterium can remain dormant, but it has been found that it can sporulate under hypoxic conditions with (very) low oxygen levels.\n",
    "\n",
    "Sporulation genes are under strict control by transcription factors that can sense such low-oxygen environments before allowing transcription and subsequent translation of sporulation genes. This regulator protein was found in 2003 and was termed 'dormancy survival regulator' (DosR). Park et al. (2003, https://doi.org/10.1046/j.1365-2958.2003.03474.x) did transcriptomics under low oxygen concentrations and found 25 genes to be significantly upregulated. I will use a set of 10 of these genes with the 250 nucleotides upstream in order to try to find the binding motif for DosR. The length of the motif is 20 basepairs."
   ]
  },
  {
   "cell_type": "code",
   "execution_count": 81,
   "metadata": {},
   "outputs": [],
   "source": [
    "# load in the data\n",
    "genome = open(\"DosR.txt\", \"r\").readlines()"
   ]
  },
  {
   "attachments": {},
   "cell_type": "markdown",
   "metadata": {},
   "source": [
    "Run the Gibbs motif search algorithm:"
   ]
  },
  {
   "cell_type": "code",
   "execution_count": 82,
   "metadata": {},
   "outputs": [
    {
     "name": "stdout",
     "output_type": "stream",
     "text": [
      "['GCCGGGACTTCAGGCCCTAT', 'CACGGGTCAAACGACCCTAG', 'GGCGGGACGTAAGTCCCTAA', 'CGCTGGATTACCGACCGCAG', 'TTCGTGACCGACGTCCCCAG', 'TTGAGGACCTTCGGCCCCAC', 'TCGGGGACTTCTGTCCCTAG', 'CATGGGACTTTCGGCCCTGT', 'GTGGGGACCAACGCCCCTGG', 'CTGGGGACCGAAGTCCCCGG']\n"
     ]
    }
   ],
   "source": [
    "result = gibbs_motif_search(genome, 20, len(genome), 2000)\n",
    "print(result)"
   ]
  },
  {
   "attachments": {},
   "cell_type": "markdown",
   "metadata": {},
   "source": [
    "The Gibbs motif search algorithm took 5 minutes to find the binding motif. Now I can plot the consensus motif with the nucleotide probabilities:"
   ]
  },
  {
   "cell_type": "code",
   "execution_count": 87,
   "metadata": {},
   "outputs": [
    {
     "data": {
      "text/plain": [
       "Text(0, 0.5, 'Percentage identity')"
      ]
     },
     "execution_count": 87,
     "metadata": {},
     "output_type": "execute_result"
    },
    {
     "data": {
      "image/png": "[encoded data removed]",
      "text/plain": [
       "<Figure size 1000x300 with 1 Axes>"
      ]
     },
     "metadata": {},
     "output_type": "display_data"
    }
   ],
   "source": [
    "df = pd.DataFrame(get_profile_matrix(result, False), columns = ['A', 'C', 'G', 'T'])\n",
    "df.plot(kind='bar', stacked=True, figsize=(10, 3))\n",
    "plt.title(\"Consensus motif DosR\")\n",
    "plt.xlabel(\"Nucleotide position\")\n",
    "plt.ylabel(\"Percentage identity\")"
   ]
  },
  {
   "attachments": {},
   "cell_type": "markdown",
   "metadata": {},
   "source": [
    "| Position| Motif found by me | Motif found by Park et al. |\n",
    "| --- | --- | --- |\n",
    "| 0 | C/G/T | T |\n",
    "| 1 | T | T |\n",
    "| 2 | C/G | C/G |\n",
    "| 3 | G | G |\n",
    "| 4 | G | G |\n",
    "| 5 | G | G |\n",
    "| 6 | A | A |\n",
    "| 7 | C | C |\n",
    "| 8 | C/T | T |\n",
    "| 9 | A/T | A/T |\n",
    "| 10 | A | A/T |\n",
    "| 11 | C | A |\n",
    "| 12 | G | G |\n",
    "| 13 | T | T |\n",
    "| 14 | C | C |\n",
    "| 15 | C | C |\n",
    "| 16 | C | C |\n",
    "| 17 | C/T | C/G |\n",
    "| 18 | A | A |\n",
    "| 19 | G | A |"
   ]
  },
  {
   "attachments": {},
   "cell_type": "markdown",
   "metadata": {},
   "source": [
    "The motif is very similar to the real binding motif as found by Park et al.!"
   ]
  }
 ],
 "metadata": {
  "kernelspec": {
   "display_name": "bioinfo",
   "language": "python",
   "name": "python3"
  },
  "language_info": {
   "codemirror_mode": {
    "name": "ipython",
    "version": 3
   },
   "file_extension": ".py",
   "mimetype": "text/x-python",
   "name": "python",
   "nbconvert_exporter": "python",
   "pygments_lexer": "ipython3",
   "version": "3.7.12"
  },
  "orig_nbformat": 4,
  "vscode": {
   "interpreter": {
    "hash": "bad63998eec1e2fccd30465821e62b47f10a15ede562ee3b3030dd258ff99f66"
   }
  }
 },
 "nbformat": 4,
 "nbformat_minor": 2
}
